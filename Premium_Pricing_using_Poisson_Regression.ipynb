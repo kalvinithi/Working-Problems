{
  "nbformat": 4,
  "nbformat_minor": 0,
  "metadata": {
    "colab": {
      "provenance": [],
      "authorship_tag": "ABX9TyMuTw6ZUDLyH66fEaTxxf7U",
      "include_colab_link": true
    },
    "kernelspec": {
      "name": "ir",
      "display_name": "R"
    },
    "language_info": {
      "name": "R"
    }
  },
  "cells": [
    {
      "cell_type": "markdown",
      "metadata": {
        "id": "view-in-github",
        "colab_type": "text"
      },
      "source": [
        "<a href=\"https://colab.research.google.com/github/kalvinithi/Working-Problems/blob/main/Premium_Pricing_using_Poisson_Regression.ipynb\" target=\"_parent\"><img src=\"https://colab.research.google.com/assets/colab-badge.svg\" alt=\"Open In Colab\"/></a>"
      ]
    },
    {
      "cell_type": "code",
      "execution_count": 2,
      "metadata": {
        "colab": {
          "base_uri": "https://localhost:8080/"
        },
        "id": "Qm4hDjJDcyxp",
        "outputId": "88f5d4ba-bf1d-469c-fcf3-b187a54eaa5d"
      },
      "outputs": [
        {
          "output_type": "stream",
          "name": "stderr",
          "text": [
            "Installing package into ‘/usr/local/lib/R/site-library’\n",
            "(as ‘lib’ is unspecified)\n",
            "\n",
            "\n",
            "Attaching package: ‘dplyr’\n",
            "\n",
            "\n",
            "The following objects are masked from ‘package:stats’:\n",
            "\n",
            "    filter, lag\n",
            "\n",
            "\n",
            "The following objects are masked from ‘package:base’:\n",
            "\n",
            "    intersect, setdiff, setequal, union\n",
            "\n",
            "\n"
          ]
        }
      ],
      "source": [
        "install.packages(\"dplyr\")\n",
        "library(dplyr)"
      ]
    },
    {
      "cell_type": "code",
      "source": [
        "# Set seed for reproducibility\n",
        "set.seed(123)"
      ],
      "metadata": {
        "id": "3GT-j5iwc9qE"
      },
      "execution_count": 4,
      "outputs": []
    },
    {
      "cell_type": "code",
      "source": [
        "# Simulate dataset\n",
        "n <- 1000  # Number of customers\n",
        "age <- sample(18:70, n, replace = TRUE)\n",
        "gender <- sample(c(\"Male\", \"Female\"), n, replace = TRUE)\n",
        "vehicle_type <- sample(c(\"Sedan\", \"SUV\", \"Truck\"), n, replace = TRUE)\n",
        "claims <- rpois(n, lambda = 0.2 + 0.01 * age + ifelse(vehicle_type == \"Truck\", 0.1, 0))"
      ],
      "metadata": {
        "id": "XF3mYRS6eTRe"
      },
      "execution_count": 5,
      "outputs": []
    },
    {
      "cell_type": "code",
      "source": [
        "# Combine into a data frame\n",
        "insurance_data <- data.frame(\n",
        "  Age = age,\n",
        "  Gender = gender,\n",
        "  Vehicle_Type = vehicle_type,\n",
        "  Claims = claims\n",
        ")"
      ],
      "metadata": {
        "id": "xd68CC2KeW-U"
      },
      "execution_count": 6,
      "outputs": []
    },
    {
      "cell_type": "code",
      "source": [
        "# Convert categorical variables to factors\n",
        "insurance_data$Gender <- as.factor(insurance_data$Gender)\n",
        "insurance_data$Vehicle_Type <- as.factor(insurance_data$Vehicle_Type)"
      ],
      "metadata": {
        "id": "r8ZfTk1JeZc1"
      },
      "execution_count": 7,
      "outputs": []
    },
    {
      "cell_type": "code",
      "source": [
        "# Inspect the data\n",
        "head(insurance_data)"
      ],
      "metadata": {
        "colab": {
          "base_uri": "https://localhost:8080/",
          "height": 286
        },
        "id": "m1QRKVUSeaWl",
        "outputId": "c261fa11-5286-4b82-f5b0-240a84f36ffd"
      },
      "execution_count": 8,
      "outputs": [
        {
          "output_type": "display_data",
          "data": {
            "text/html": [
              "<table class=\"dataframe\">\n",
              "<caption>A data.frame: 6 × 4</caption>\n",
              "<thead>\n",
              "\t<tr><th></th><th scope=col>Age</th><th scope=col>Gender</th><th scope=col>Vehicle_Type</th><th scope=col>Claims</th></tr>\n",
              "\t<tr><th></th><th scope=col>&lt;int&gt;</th><th scope=col>&lt;fct&gt;</th><th scope=col>&lt;fct&gt;</th><th scope=col>&lt;int&gt;</th></tr>\n",
              "</thead>\n",
              "<tbody>\n",
              "\t<tr><th scope=row>1</th><td>48</td><td>Male  </td><td>SUV  </td><td>1</td></tr>\n",
              "\t<tr><th scope=row>2</th><td>32</td><td>Male  </td><td>Sedan</td><td>0</td></tr>\n",
              "\t<tr><th scope=row>3</th><td>68</td><td>Male  </td><td>Sedan</td><td>2</td></tr>\n",
              "\t<tr><th scope=row>4</th><td>31</td><td>Female</td><td>Truck</td><td>0</td></tr>\n",
              "\t<tr><th scope=row>5</th><td>20</td><td>Male  </td><td>Truck</td><td>0</td></tr>\n",
              "\t<tr><th scope=row>6</th><td>59</td><td>Male  </td><td>Sedan</td><td>0</td></tr>\n",
              "</tbody>\n",
              "</table>\n"
            ],
            "text/markdown": "\nA data.frame: 6 × 4\n\n| <!--/--> | Age &lt;int&gt; | Gender &lt;fct&gt; | Vehicle_Type &lt;fct&gt; | Claims &lt;int&gt; |\n|---|---|---|---|---|\n| 1 | 48 | Male   | SUV   | 1 |\n| 2 | 32 | Male   | Sedan | 0 |\n| 3 | 68 | Male   | Sedan | 2 |\n| 4 | 31 | Female | Truck | 0 |\n| 5 | 20 | Male   | Truck | 0 |\n| 6 | 59 | Male   | Sedan | 0 |\n\n",
            "text/latex": "A data.frame: 6 × 4\n\\begin{tabular}{r|llll}\n  & Age & Gender & Vehicle\\_Type & Claims\\\\\n  & <int> & <fct> & <fct> & <int>\\\\\n\\hline\n\t1 & 48 & Male   & SUV   & 1\\\\\n\t2 & 32 & Male   & Sedan & 0\\\\\n\t3 & 68 & Male   & Sedan & 2\\\\\n\t4 & 31 & Female & Truck & 0\\\\\n\t5 & 20 & Male   & Truck & 0\\\\\n\t6 & 59 & Male   & Sedan & 0\\\\\n\\end{tabular}\n",
            "text/plain": [
              "  Age Gender Vehicle_Type Claims\n",
              "1 48  Male   SUV          1     \n",
              "2 32  Male   Sedan        0     \n",
              "3 68  Male   Sedan        2     \n",
              "4 31  Female Truck        0     \n",
              "5 20  Male   Truck        0     \n",
              "6 59  Male   Sedan        0     "
            ]
          },
          "metadata": {}
        }
      ]
    },
    {
      "cell_type": "code",
      "source": [
        "# Fit a Poisson regression model\n",
        "poisson_model <- glm(Claims ~ Age + Gender + Vehicle_Type,\n",
        "                     family = poisson(link = \"log\"),\n",
        "                     data = insurance_data)"
      ],
      "metadata": {
        "id": "EHnM204LeeE-"
      },
      "execution_count": 9,
      "outputs": []
    },
    {
      "cell_type": "code",
      "source": [
        "# Summary of the model\n",
        "summary(poisson_model)"
      ],
      "metadata": {
        "colab": {
          "base_uri": "https://localhost:8080/",
          "height": 399
        },
        "id": "uCo__sSdehCV",
        "outputId": "dd14c25e-29e1-4601-d47a-815bde08effd"
      },
      "execution_count": 10,
      "outputs": [
        {
          "output_type": "display_data",
          "data": {
            "text/plain": [
              "\n",
              "Call:\n",
              "glm(formula = Claims ~ Age + Gender + Vehicle_Type, family = poisson(link = \"log\"), \n",
              "    data = insurance_data)\n",
              "\n",
              "Coefficients:\n",
              "                   Estimate Std. Error z value Pr(>|z|)    \n",
              "(Intercept)       -1.270422   0.148767  -8.540  < 2e-16 ***\n",
              "Age                0.016278   0.002599   6.263 3.77e-10 ***\n",
              "GenderMale         0.053664   0.077766   0.690   0.4902    \n",
              "Vehicle_TypeSUV    0.080727   0.099271   0.813   0.4161    \n",
              "Vehicle_TypeTruck  0.184078   0.093246   1.974   0.0484 *  \n",
              "---\n",
              "Signif. codes:  0 ‘***’ 0.001 ‘**’ 0.01 ‘*’ 0.05 ‘.’ 0.1 ‘ ’ 1\n",
              "\n",
              "(Dispersion parameter for poisson family taken to be 1)\n",
              "\n",
              "    Null deviance: 1118.8  on 999  degrees of freedom\n",
              "Residual deviance: 1074.6  on 995  degrees of freedom\n",
              "AIC: 2142.3\n",
              "\n",
              "Number of Fisher Scoring iterations: 5\n"
            ]
          },
          "metadata": {}
        }
      ]
    },
    {
      "cell_type": "code",
      "source": [
        "# Predict the expected number of claims\n",
        "insurance_data$Predicted_Claims <- predict(poisson_model, type = \"response\")"
      ],
      "metadata": {
        "id": "jYO_Jz_NekYd"
      },
      "execution_count": 11,
      "outputs": []
    },
    {
      "cell_type": "code",
      "source": [
        "# Calculate the premium based on the predicted number of claims\n",
        "# Here, we multiply by a base rate to determine the premium\n",
        "base_rate <- 100\n",
        "insurance_data$Premium <- base_rate * insurance_data$Predicted_Claims"
      ],
      "metadata": {
        "id": "EKbOEIrmemvW"
      },
      "execution_count": 12,
      "outputs": []
    },
    {
      "cell_type": "code",
      "source": [
        "# Display the final dataset with predicted claims and premium\n",
        "head(insurance_data)"
      ],
      "metadata": {
        "colab": {
          "base_uri": "https://localhost:8080/",
          "height": 286
        },
        "id": "FEiibKACesZN",
        "outputId": "7547878c-30a2-42e8-94fc-a51482db0f71"
      },
      "execution_count": 13,
      "outputs": [
        {
          "output_type": "display_data",
          "data": {
            "text/html": [
              "<table class=\"dataframe\">\n",
              "<caption>A data.frame: 6 × 6</caption>\n",
              "<thead>\n",
              "\t<tr><th></th><th scope=col>Age</th><th scope=col>Gender</th><th scope=col>Vehicle_Type</th><th scope=col>Claims</th><th scope=col>Predicted_Claims</th><th scope=col>Premium</th></tr>\n",
              "\t<tr><th></th><th scope=col>&lt;int&gt;</th><th scope=col>&lt;fct&gt;</th><th scope=col>&lt;fct&gt;</th><th scope=col>&lt;int&gt;</th><th scope=col>&lt;dbl&gt;</th><th scope=col>&lt;dbl&gt;</th></tr>\n",
              "</thead>\n",
              "<tbody>\n",
              "\t<tr><th scope=row>1</th><td>48</td><td>Male  </td><td>SUV  </td><td>1</td><td>0.7013897</td><td>70.13897</td></tr>\n",
              "\t<tr><th scope=row>2</th><td>32</td><td>Male  </td><td>Sedan</td><td>0</td><td>0.4986427</td><td>49.86427</td></tr>\n",
              "\t<tr><th scope=row>3</th><td>68</td><td>Male  </td><td>Sedan</td><td>2</td><td>0.8959588</td><td>89.59588</td></tr>\n",
              "\t<tr><th scope=row>4</th><td>31</td><td>Female</td><td>Truck</td><td>0</td><td>0.5589312</td><td>55.89312</td></tr>\n",
              "\t<tr><th scope=row>5</th><td>20</td><td>Male  </td><td>Truck</td><td>0</td><td>0.4930611</td><td>49.30611</td></tr>\n",
              "\t<tr><th scope=row>6</th><td>59</td><td>Male  </td><td>Sedan</td><td>0</td><td>0.7738618</td><td>77.38618</td></tr>\n",
              "</tbody>\n",
              "</table>\n"
            ],
            "text/markdown": "\nA data.frame: 6 × 6\n\n| <!--/--> | Age &lt;int&gt; | Gender &lt;fct&gt; | Vehicle_Type &lt;fct&gt; | Claims &lt;int&gt; | Predicted_Claims &lt;dbl&gt; | Premium &lt;dbl&gt; |\n|---|---|---|---|---|---|---|\n| 1 | 48 | Male   | SUV   | 1 | 0.7013897 | 70.13897 |\n| 2 | 32 | Male   | Sedan | 0 | 0.4986427 | 49.86427 |\n| 3 | 68 | Male   | Sedan | 2 | 0.8959588 | 89.59588 |\n| 4 | 31 | Female | Truck | 0 | 0.5589312 | 55.89312 |\n| 5 | 20 | Male   | Truck | 0 | 0.4930611 | 49.30611 |\n| 6 | 59 | Male   | Sedan | 0 | 0.7738618 | 77.38618 |\n\n",
            "text/latex": "A data.frame: 6 × 6\n\\begin{tabular}{r|llllll}\n  & Age & Gender & Vehicle\\_Type & Claims & Predicted\\_Claims & Premium\\\\\n  & <int> & <fct> & <fct> & <int> & <dbl> & <dbl>\\\\\n\\hline\n\t1 & 48 & Male   & SUV   & 1 & 0.7013897 & 70.13897\\\\\n\t2 & 32 & Male   & Sedan & 0 & 0.4986427 & 49.86427\\\\\n\t3 & 68 & Male   & Sedan & 2 & 0.8959588 & 89.59588\\\\\n\t4 & 31 & Female & Truck & 0 & 0.5589312 & 55.89312\\\\\n\t5 & 20 & Male   & Truck & 0 & 0.4930611 & 49.30611\\\\\n\t6 & 59 & Male   & Sedan & 0 & 0.7738618 & 77.38618\\\\\n\\end{tabular}\n",
            "text/plain": [
              "  Age Gender Vehicle_Type Claims Predicted_Claims Premium \n",
              "1 48  Male   SUV          1      0.7013897        70.13897\n",
              "2 32  Male   Sedan        0      0.4986427        49.86427\n",
              "3 68  Male   Sedan        2      0.8959588        89.59588\n",
              "4 31  Female Truck        0      0.5589312        55.89312\n",
              "5 20  Male   Truck        0      0.4930611        49.30611\n",
              "6 59  Male   Sedan        0      0.7738618        77.38618"
            ]
          },
          "metadata": {}
        }
      ]
    },
    {
      "cell_type": "code",
      "source": [
        "# Summary of average premiums by vehicle type\n",
        "insurance_data %>%\n",
        "  group_by(Vehicle_Type) %>%\n",
        "  summarize(Average_Premium = mean(Premium))"
      ],
      "metadata": {
        "colab": {
          "base_uri": "https://localhost:8080/",
          "height": 192
        },
        "id": "oBKyYvN8ev7X",
        "outputId": "9478aad7-b4ee-43ff-8fad-74bceff55ad3"
      },
      "execution_count": 14,
      "outputs": [
        {
          "output_type": "display_data",
          "data": {
            "text/html": [
              "<table class=\"dataframe\">\n",
              "<caption>A tibble: 3 × 2</caption>\n",
              "<thead>\n",
              "\t<tr><th scope=col>Vehicle_Type</th><th scope=col>Average_Premium</th></tr>\n",
              "\t<tr><th scope=col>&lt;fct&gt;</th><th scope=col>&lt;dbl&gt;</th></tr>\n",
              "</thead>\n",
              "<tbody>\n",
              "\t<tr><td>Sedan</td><td>61.42433</td></tr>\n",
              "\t<tr><td>SUV  </td><td>64.72492</td></tr>\n",
              "\t<tr><td>Truck</td><td>73.16384</td></tr>\n",
              "</tbody>\n",
              "</table>\n"
            ],
            "text/markdown": "\nA tibble: 3 × 2\n\n| Vehicle_Type &lt;fct&gt; | Average_Premium &lt;dbl&gt; |\n|---|---|\n| Sedan | 61.42433 |\n| SUV   | 64.72492 |\n| Truck | 73.16384 |\n\n",
            "text/latex": "A tibble: 3 × 2\n\\begin{tabular}{ll}\n Vehicle\\_Type & Average\\_Premium\\\\\n <fct> & <dbl>\\\\\n\\hline\n\t Sedan & 61.42433\\\\\n\t SUV   & 64.72492\\\\\n\t Truck & 73.16384\\\\\n\\end{tabular}\n",
            "text/plain": [
              "  Vehicle_Type Average_Premium\n",
              "1 Sedan        61.42433       \n",
              "2 SUV          64.72492       \n",
              "3 Truck        73.16384       "
            ]
          },
          "metadata": {}
        }
      ]
    }
  ]
}